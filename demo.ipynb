{
 "cells": [
  {
   "cell_type": "code",
   "execution_count": 1,
   "metadata": {},
   "outputs": [],
   "source": [
    "import datetime as dt\n",
    "import pandas as pd\n",
    "from tofina.macros.realDataBacktest import DeepAR_OptionTrading_BackTest"
   ]
  },
  {
   "cell_type": "code",
   "execution_count": 2,
   "metadata": {},
   "outputs": [
    {
     "name": "stderr",
     "output_type": "stream",
     "text": [
      "[*********************100%%**********************]  1 of 1 completed\n",
      "[*********************100%%**********************]  1 of 1 completed\n"
     ]
    },
    {
     "name": "stdout",
     "output_type": "stream",
     "text": [
      "Tofina: insihed loading stock data from Yahoo Finance\n",
      "Tofina: Finished creating log directories\n"
     ]
    },
    {
     "name": "stderr",
     "output_type": "stream",
     "text": [
      "/opt/anaconda3/lib/python3.8/site-packages/pytorch_forecasting/data/samplers.py:86: UserWarning: Less than 512 samples available for 10554 prediction times. Use batch size smaller than 512. First 10 prediction times with small batch sizes: [31, 32, 33, 34, 35, 36, 37, 38, 39, 40]\n",
      "  warnings.warn(\n",
      "GPU available: False, used: False\n",
      "TPU available: False, using: 0 TPU cores\n",
      "IPU available: False, using: 0 IPUs\n",
      "HPU available: False, using: 0 HPUs\n",
      "/opt/anaconda3/lib/python3.8/site-packages/lightning/pytorch/utilities/parsing.py:199: Attribute 'loss' is an instance of `nn.Module` and is already saved during checkpointing. It is recommended to ignore them using `self.save_hyperparameters(ignore=['loss'])`.\n",
      "/opt/anaconda3/lib/python3.8/site-packages/lightning/pytorch/utilities/parsing.py:199: Attribute 'logging_metrics' is an instance of `nn.Module` and is already saved during checkpointing. It is recommended to ignore them using `self.save_hyperparameters(ignore=['logging_metrics'])`.\n"
     ]
    },
    {
     "name": "stdout",
     "output_type": "stream",
     "text": [
      "Epoch 0: 100%|██████████| 50/50 [00:01<00:00, 35.86it/s, v_num=5, train_loss_step=0.597] "
     ]
    }
   ],
   "source": [
    "start_date = dt.datetime(2023, 1, 1)\n",
    "#end_date = dt.datetime(2023, 1, 14)\n",
    "end_date = dt.datetime(2023, 1, 4)\n",
    "log_dir = \"./demo_logs\"\n",
    "horizon = 20\n",
    "simulations = 1000\n",
    "stocks = [\"AAPL\", \"NVDA\"]\n",
    "options = {\n",
    "    \"AAPL\": \"./demo_data/AAPL_options.csv\",\n",
    "    \"NVDA\": \"./demo_data/NVDA_options.csv\"\n",
    "}\n",
    "daily_interest_rate = 0.03/252\n",
    "backtester, results, timestamps = DeepAR_OptionTrading_BackTest(\n",
    "    start_date,\n",
    "    end_date,\n",
    "    log_dir,\n",
    "    horizon,\n",
    "    simulations,\n",
    "    stocks,\n",
    "    options,\n",
    "    daily_interest_rate\n",
    ")"
   ]
  },
  {
   "cell_type": "code",
   "execution_count": null,
   "metadata": {},
   "outputs": [],
   "source": [
    "for ts in timestamps:\n",
    "    print(ts, float(results[ts][\"real\"].sum(axis=1)), float(results[ts][\"simulation\"].sum(axis=1).mean()))"
   ]
  },
  {
   "cell_type": "code",
   "execution_count": null,
   "metadata": {},
   "outputs": [],
   "source": [
    "timestamps =  list(backtester.pointInTimePortfolio.keys())\n",
    "testPortfolio = backtester.pointInTimePortfolio[timestamps[0]]"
   ]
  },
  {
   "cell_type": "code",
   "execution_count": null,
   "metadata": {},
   "outputs": [],
   "source": [
    "weights = backtester.pointInTimePortfolio[timestamps[0]].strategy.normalizedWeights\n",
    "instruments = backtester.pointInTimePortfolio[timestamps[0]].strategy.instruments.keys()\n",
    "prices = []\n",
    "for i in instruments:\n",
    "    prices.append(backtester.pointInTimePortfolio[timestamps[0]].strategy.instruments[i].price)\n",
    "weightsDict = {}\n",
    "for w,i,p in zip(weights,instruments, prices):\n",
    "    weightsDict[i] = {\"weight\":float(w), \"price\":float(p)}\n",
    "pd.DataFrame(weightsDict).T.sort_values(by=\"weight\", ascending=False)"
   ]
  }
 ],
 "metadata": {
  "kernelspec": {
   "display_name": "base",
   "language": "python",
   "name": "python3"
  },
  "language_info": {
   "codemirror_mode": {
    "name": "ipython",
    "version": 3
   },
   "file_extension": ".py",
   "mimetype": "text/x-python",
   "name": "python",
   "nbconvert_exporter": "python",
   "pygments_lexer": "ipython3",
   "version": "3.8.8"
  }
 },
 "nbformat": 4,
 "nbformat_minor": 2
}
