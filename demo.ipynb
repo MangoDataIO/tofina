{
 "cells": [
  {
   "cell_type": "code",
   "execution_count": 1,
   "metadata": {},
   "outputs": [],
   "source": [
    "import datetime as dt\n",
    "import pandas as pd\n",
    "from tofina.macros.realDataBacktest import DeepAR_OptionTrading_BackTest"
   ]
  },
  {
   "cell_type": "code",
   "execution_count": 2,
   "metadata": {},
   "outputs": [
    {
     "name": "stderr",
     "output_type": "stream",
     "text": [
      "[*********************100%%**********************]  1 of 1 completed\n",
      "[*********************100%%**********************]  1 of 1 completed\n"
     ]
    },
    {
     "name": "stdout",
     "output_type": "stream",
     "text": [
      "Tofina: insihed loading stock data from Yahoo Finance\n",
      "Tofina: Finished creating log directories\n"
     ]
    },
    {
     "name": "stderr",
     "output_type": "stream",
     "text": [
      "/opt/anaconda3/lib/python3.8/site-packages/pytorch_forecasting/data/samplers.py:86: UserWarning: Less than 512 samples available for 10554 prediction times. Use batch size smaller than 512. First 10 prediction times with small batch sizes: [31, 32, 33, 34, 35, 36, 37, 38, 39, 40]\n",
      "  warnings.warn(\n",
      "GPU available: False, used: False\n",
      "TPU available: False, using: 0 TPU cores\n",
      "IPU available: False, using: 0 IPUs\n",
      "HPU available: False, using: 0 HPUs\n",
      "/opt/anaconda3/lib/python3.8/site-packages/lightning/pytorch/utilities/parsing.py:199: Attribute 'loss' is an instance of `nn.Module` and is already saved during checkpointing. It is recommended to ignore them using `self.save_hyperparameters(ignore=['loss'])`.\n",
      "/opt/anaconda3/lib/python3.8/site-packages/lightning/pytorch/utilities/parsing.py:199: Attribute 'logging_metrics' is an instance of `nn.Module` and is already saved during checkpointing. It is recommended to ignore them using `self.save_hyperparameters(ignore=['logging_metrics'])`.\n"
     ]
    },
    {
     "name": "stdout",
     "output_type": "stream",
     "text": [
      "Epoch 9: 100%|██████████| 50/50 [00:29<00:00,  1.72it/s, v_num=1, train_loss_step=-2.08, val_loss=-3.34, train_loss_epoch=-2.38] "
     ]
    },
    {
     "name": "stderr",
     "output_type": "stream",
     "text": [
      "`Trainer.fit` stopped: `max_epochs=10` reached.\n"
     ]
    },
    {
     "name": "stdout",
     "output_type": "stream",
     "text": [
      "Epoch 9: 100%|██████████| 50/50 [00:29<00:00,  1.71it/s, v_num=1, train_loss_step=-2.08, val_loss=-3.34, train_loss_epoch=-2.38]\n"
     ]
    },
    {
     "name": "stderr",
     "output_type": "stream",
     "text": [
      "/opt/anaconda3/lib/python3.8/site-packages/lightning/pytorch/utilities/parsing.py:199: Attribute 'loss' is an instance of `nn.Module` and is already saved during checkpointing. It is recommended to ignore them using `self.save_hyperparameters(ignore=['loss'])`.\n",
      "/opt/anaconda3/lib/python3.8/site-packages/lightning/pytorch/utilities/parsing.py:199: Attribute 'logging_metrics' is an instance of `nn.Module` and is already saved during checkpointing. It is recommended to ignore them using `self.save_hyperparameters(ignore=['logging_metrics'])`.\n",
      "GPU available: False, used: False\n",
      "TPU available: False, using: 0 TPU cores\n",
      "IPU available: False, using: 0 IPUs\n",
      "HPU available: False, using: 0 HPUs\n",
      "0it [00:00, ?it/s]"
     ]
    },
    {
     "name": "stdout",
     "output_type": "stream",
     "text": [
      "Tofina: Finished fitting DeepVAR forecaster to stock data\n"
     ]
    },
    {
     "name": "stderr",
     "output_type": "stream",
     "text": [
      "100it [00:00, 533.53it/s]\n",
      "100it [00:00, 592.74it/s]\n",
      "100it [00:00, 618.04it/s]\n",
      "100it [00:00, 661.32it/s]\n",
      "100it [00:00, 590.66it/s]\n",
      "100it [00:00, 627.88it/s]\n",
      "100it [00:00, 627.58it/s]\n",
      "100it [00:00, 674.88it/s]\n",
      "100it [00:00, 653.13it/s]\n",
      "100it [00:00, 623.78it/s]\n",
      "100it [00:00, 618.58it/s]\n",
      "100it [00:00, 680.18it/s]\n",
      "100it [00:00, 671.50it/s]\n",
      "100it [00:00, 608.00it/s]\n",
      "100it [00:00, 647.90it/s]\n",
      "100it [00:00, 548.44it/s]\n",
      "100it [00:00, 653.01it/s]\n",
      "100it [00:00, 626.42it/s]\n",
      "  0%|          | 0/9 [00:00<?, ?it/s]"
     ]
    },
    {
     "name": "stdout",
     "output_type": "stream",
     "text": [
      "Tofina: Stared portfolio optimization and backtesting\n",
      "Tofina: Optimizing Portfolio at timestamp:  2023-01-03 00:00:00\n"
     ]
    },
    {
     "name": "stderr",
     "output_type": "stream",
     "text": [
      "100%|██████████| 5000/5000 [00:38<00:00, 128.91it/s]\n",
      " 11%|█         | 1/9 [00:38<05:10, 38.85s/it]"
     ]
    },
    {
     "name": "stdout",
     "output_type": "stream",
     "text": [
      "Tofina: Optimizing Portfolio at timestamp:  2023-01-04 00:00:00\n"
     ]
    },
    {
     "name": "stderr",
     "output_type": "stream",
     "text": [
      "100%|██████████| 5000/5000 [00:35<00:00, 139.89it/s]\n",
      " 22%|██▏       | 2/9 [01:14<04:19, 37.06s/it]"
     ]
    },
    {
     "name": "stdout",
     "output_type": "stream",
     "text": [
      "Tofina: Optimizing Portfolio at timestamp:  2023-01-05 00:00:00\n"
     ]
    },
    {
     "name": "stderr",
     "output_type": "stream",
     "text": [
      "100%|██████████| 5000/5000 [00:40<00:00, 124.70it/s]\n",
      " 33%|███▎      | 3/9 [01:54<03:50, 38.49s/it]"
     ]
    },
    {
     "name": "stdout",
     "output_type": "stream",
     "text": [
      "Tofina: Optimizing Portfolio at timestamp:  2023-01-06 00:00:00\n"
     ]
    },
    {
     "name": "stderr",
     "output_type": "stream",
     "text": [
      "100%|██████████| 5000/5000 [00:44<00:00, 112.04it/s]\n",
      " 44%|████▍     | 4/9 [02:39<03:24, 40.95s/it]"
     ]
    },
    {
     "name": "stdout",
     "output_type": "stream",
     "text": [
      "Tofina: Optimizing Portfolio at timestamp:  2023-01-09 00:00:00\n"
     ]
    },
    {
     "name": "stderr",
     "output_type": "stream",
     "text": [
      "100%|██████████| 5000/5000 [00:36<00:00, 138.01it/s]\n",
      " 56%|█████▌    | 5/9 [03:15<02:37, 39.28s/it]"
     ]
    },
    {
     "name": "stdout",
     "output_type": "stream",
     "text": [
      "Tofina: Optimizing Portfolio at timestamp:  2023-01-10 00:00:00\n"
     ]
    },
    {
     "name": "stderr",
     "output_type": "stream",
     "text": [
      "100%|██████████| 5000/5000 [00:32<00:00, 152.63it/s]\n",
      " 67%|██████▋   | 6/9 [03:48<01:51, 37.09s/it]"
     ]
    },
    {
     "name": "stdout",
     "output_type": "stream",
     "text": [
      "Tofina: Optimizing Portfolio at timestamp:  2023-01-11 00:00:00\n"
     ]
    },
    {
     "name": "stderr",
     "output_type": "stream",
     "text": [
      "100%|██████████| 5000/5000 [00:39<00:00, 126.94it/s]\n",
      " 78%|███████▊  | 7/9 [04:28<01:15, 37.87s/it]"
     ]
    },
    {
     "name": "stdout",
     "output_type": "stream",
     "text": [
      "Tofina: Optimizing Portfolio at timestamp:  2023-01-12 00:00:00\n"
     ]
    },
    {
     "name": "stderr",
     "output_type": "stream",
     "text": [
      "100%|██████████| 5000/5000 [00:43<00:00, 115.02it/s]\n",
      " 89%|████████▉ | 8/9 [05:11<00:39, 39.69s/it]"
     ]
    },
    {
     "name": "stdout",
     "output_type": "stream",
     "text": [
      "Tofina: Optimizing Portfolio at timestamp:  2023-01-13 00:00:00\n"
     ]
    },
    {
     "name": "stderr",
     "output_type": "stream",
     "text": [
      "100%|██████████| 5000/5000 [00:37<00:00, 134.21it/s]\n",
      "100%|██████████| 9/9 [05:49<00:00, 38.79s/it]\n"
     ]
    },
    {
     "name": "stdout",
     "output_type": "stream",
     "text": [
      "Tofina: Optimization Completed!\n"
     ]
    }
   ],
   "source": [
    "start_date = dt.datetime(2023, 1, 1)\n",
    "end_date = dt.datetime(2023, 1, 14)\n",
    "log_dir = \"./demo_logs\"\n",
    "horizon = 20\n",
    "simulations = 1000\n",
    "stocks = [\"AAPL\", \"NVDA\"]\n",
    "options = {\n",
    "    \"AAPL\": \"./demo_data/AAPL_options.csv\",\n",
    "    \"NVDA\": \"./demo_data/NVDA_options.csv\"\n",
    "}\n",
    "daily_interest_rate = 0.03/252\n",
    "backtester, results, timestamps = DeepAR_OptionTrading_BackTest(\n",
    "    start_date,\n",
    "    end_date,\n",
    "    log_dir,\n",
    "    horizon,\n",
    "    simulations,\n",
    "    stocks,\n",
    "    options,\n",
    "    daily_interest_rate\n",
    ")"
   ]
  },
  {
   "cell_type": "code",
   "execution_count": 3,
   "metadata": {},
   "outputs": [
    {
     "name": "stdout",
     "output_type": "stream",
     "text": [
      "Portfolio weights at timestamp:  2023-01-03 00:00:00\n"
     ]
    },
    {
     "data": {
      "text/html": [
       "<div>\n",
       "<style scoped>\n",
       "    .dataframe tbody tr th:only-of-type {\n",
       "        vertical-align: middle;\n",
       "    }\n",
       "\n",
       "    .dataframe tbody tr th {\n",
       "        vertical-align: top;\n",
       "    }\n",
       "\n",
       "    .dataframe thead th {\n",
       "        text-align: right;\n",
       "    }\n",
       "</style>\n",
       "<table border=\"1\" class=\"dataframe\">\n",
       "  <thead>\n",
       "    <tr style=\"text-align: right;\">\n",
       "      <th></th>\n",
       "      <th>weight</th>\n",
       "      <th>price</th>\n",
       "    </tr>\n",
       "  </thead>\n",
       "  <tbody>\n",
       "    <tr>\n",
       "      <th>NVDA_Put_111.0_4_NVDA</th>\n",
       "      <td>0.988776</td>\n",
       "      <td>0.010000</td>\n",
       "    </tr>\n",
       "    <tr>\n",
       "      <th>NVDA_Put_132.0_19_NVDA</th>\n",
       "      <td>0.000361</td>\n",
       "      <td>3.950000</td>\n",
       "    </tr>\n",
       "    <tr>\n",
       "      <th>NVDA_Call_111.0_9_NVDA</th>\n",
       "      <td>0.000355</td>\n",
       "      <td>33.599998</td>\n",
       "    </tr>\n",
       "    <tr>\n",
       "      <th>AAPL_Call_165.0_9_AAPL</th>\n",
       "      <td>0.000354</td>\n",
       "      <td>0.020000</td>\n",
       "    </tr>\n",
       "    <tr>\n",
       "      <th>NVDA_Put_138.75_14_NVDA</th>\n",
       "      <td>0.000328</td>\n",
       "      <td>5.150000</td>\n",
       "    </tr>\n",
       "    <tr>\n",
       "      <th>...</th>\n",
       "      <td>...</td>\n",
       "      <td>...</td>\n",
       "    </tr>\n",
       "    <tr>\n",
       "      <th>AAPL_Put_75.0_9_AAPL</th>\n",
       "      <td>0.000003</td>\n",
       "      <td>0.020000</td>\n",
       "    </tr>\n",
       "    <tr>\n",
       "      <th>NVDA_Call_120.0_14_NVDA</th>\n",
       "      <td>0.000003</td>\n",
       "      <td>24.450001</td>\n",
       "    </tr>\n",
       "    <tr>\n",
       "      <th>NVDA_Put_247.5_14_NVDA</th>\n",
       "      <td>0.000003</td>\n",
       "      <td>104.849998</td>\n",
       "    </tr>\n",
       "    <tr>\n",
       "      <th>NVDA_Call_132.0_19_NVDA</th>\n",
       "      <td>0.000003</td>\n",
       "      <td>15.550000</td>\n",
       "    </tr>\n",
       "    <tr>\n",
       "      <th>AAPL_Put_137.0_14_AAPL</th>\n",
       "      <td>0.000001</td>\n",
       "      <td>12.400000</td>\n",
       "    </tr>\n",
       "  </tbody>\n",
       "</table>\n",
       "<p>133 rows × 2 columns</p>\n",
       "</div>"
      ],
      "text/plain": [
       "                           weight       price\n",
       "NVDA_Put_111.0_4_NVDA    0.988776    0.010000\n",
       "NVDA_Put_132.0_19_NVDA   0.000361    3.950000\n",
       "NVDA_Call_111.0_9_NVDA   0.000355   33.599998\n",
       "AAPL_Call_165.0_9_AAPL   0.000354    0.020000\n",
       "NVDA_Put_138.75_14_NVDA  0.000328    5.150000\n",
       "...                           ...         ...\n",
       "AAPL_Put_75.0_9_AAPL     0.000003    0.020000\n",
       "NVDA_Call_120.0_14_NVDA  0.000003   24.450001\n",
       "NVDA_Put_247.5_14_NVDA   0.000003  104.849998\n",
       "NVDA_Call_132.0_19_NVDA  0.000003   15.550000\n",
       "AAPL_Put_137.0_14_AAPL   0.000001   12.400000\n",
       "\n",
       "[133 rows x 2 columns]"
      ]
     },
     "execution_count": 3,
     "metadata": {},
     "output_type": "execute_result"
    }
   ],
   "source": [
    "def portfolio_at_timestamp(timestamp):\n",
    "    print(\"Portfolio weights at timestamp: \", timestamp)\n",
    "    testPortfolio = backtester.pointInTimePortfolio[timestamp]\n",
    "    weights = testPortfolio .strategy.normalizedWeights\n",
    "    instruments = testPortfolio .strategy.instruments.keys()\n",
    "    prices = []\n",
    "    for i in instruments:\n",
    "        prices.append(testPortfolio .strategy.instruments[i].price)\n",
    "    weightsDict = {}\n",
    "    for w,i,p in zip(weights,instruments, prices):\n",
    "        weightsDict[i] = {\"weight\":float(w), \"price\":float(p)}\n",
    "    return pd.DataFrame(weightsDict).T.sort_values(by=\"weight\", ascending=False)\n",
    "\n",
    "timestamp = timestamps[0]\n",
    "portfolio_at_timestamp(timestamp)\n",
    "\n",
    "\n"
   ]
  },
  {
   "cell_type": "code",
   "execution_count": 4,
   "metadata": {},
   "outputs": [
    {
     "name": "stdout",
     "output_type": "stream",
     "text": [
      "Portfolio weights at timestamp:  2023-01-13 00:00:00\n"
     ]
    },
    {
     "data": {
      "text/html": [
       "<div>\n",
       "<style scoped>\n",
       "    .dataframe tbody tr th:only-of-type {\n",
       "        vertical-align: middle;\n",
       "    }\n",
       "\n",
       "    .dataframe tbody tr th {\n",
       "        vertical-align: top;\n",
       "    }\n",
       "\n",
       "    .dataframe thead th {\n",
       "        text-align: right;\n",
       "    }\n",
       "</style>\n",
       "<table border=\"1\" class=\"dataframe\">\n",
       "  <thead>\n",
       "    <tr style=\"text-align: right;\">\n",
       "      <th></th>\n",
       "      <th>weight</th>\n",
       "      <th>price</th>\n",
       "    </tr>\n",
       "  </thead>\n",
       "  <tbody>\n",
       "    <tr>\n",
       "      <th>NVDA_Put_97.5_6_NVDA</th>\n",
       "      <td>9.894037e-01</td>\n",
       "      <td>0.010000</td>\n",
       "    </tr>\n",
       "    <tr>\n",
       "      <th>NVDA_Put_146.0_16_NVDA</th>\n",
       "      <td>2.752120e-04</td>\n",
       "      <td>1.400000</td>\n",
       "    </tr>\n",
       "    <tr>\n",
       "      <th>NVDA_Put_105.0_16_NVDA</th>\n",
       "      <td>2.711074e-04</td>\n",
       "      <td>0.050000</td>\n",
       "    </tr>\n",
       "    <tr>\n",
       "      <th>NVDA_Put_157.5_16_NVDA</th>\n",
       "      <td>2.235004e-04</td>\n",
       "      <td>3.650000</td>\n",
       "    </tr>\n",
       "    <tr>\n",
       "      <th>NVDA_Call_145.0_11_NVDA</th>\n",
       "      <td>2.232782e-04</td>\n",
       "      <td>25.500000</td>\n",
       "    </tr>\n",
       "    <tr>\n",
       "      <th>...</th>\n",
       "      <td>...</td>\n",
       "      <td>...</td>\n",
       "    </tr>\n",
       "    <tr>\n",
       "      <th>AAPL_Put_235.0_6_AAPL</th>\n",
       "      <td>1.279761e-06</td>\n",
       "      <td>100.449997</td>\n",
       "    </tr>\n",
       "    <tr>\n",
       "      <th>NVDA_Call_87.5_6_NVDA</th>\n",
       "      <td>1.220112e-06</td>\n",
       "      <td>82.099998</td>\n",
       "    </tr>\n",
       "    <tr>\n",
       "      <th>NVDA_Call_115.0_11_NVDA</th>\n",
       "      <td>1.219857e-06</td>\n",
       "      <td>55.900002</td>\n",
       "    </tr>\n",
       "    <tr>\n",
       "      <th>NVDA_Call_143.0_6_NVDA</th>\n",
       "      <td>5.028945e-07</td>\n",
       "      <td>26.700001</td>\n",
       "    </tr>\n",
       "    <tr>\n",
       "      <th>AAPL_Put_148.0_11_AAPL</th>\n",
       "      <td>3.574091e-07</td>\n",
       "      <td>13.400000</td>\n",
       "    </tr>\n",
       "  </tbody>\n",
       "</table>\n",
       "<p>125 rows × 2 columns</p>\n",
       "</div>"
      ],
      "text/plain": [
       "                               weight       price\n",
       "NVDA_Put_97.5_6_NVDA     9.894037e-01    0.010000\n",
       "NVDA_Put_146.0_16_NVDA   2.752120e-04    1.400000\n",
       "NVDA_Put_105.0_16_NVDA   2.711074e-04    0.050000\n",
       "NVDA_Put_157.5_16_NVDA   2.235004e-04    3.650000\n",
       "NVDA_Call_145.0_11_NVDA  2.232782e-04   25.500000\n",
       "...                               ...         ...\n",
       "AAPL_Put_235.0_6_AAPL    1.279761e-06  100.449997\n",
       "NVDA_Call_87.5_6_NVDA    1.220112e-06   82.099998\n",
       "NVDA_Call_115.0_11_NVDA  1.219857e-06   55.900002\n",
       "NVDA_Call_143.0_6_NVDA   5.028945e-07   26.700001\n",
       "AAPL_Put_148.0_11_AAPL   3.574091e-07   13.400000\n",
       "\n",
       "[125 rows x 2 columns]"
      ]
     },
     "execution_count": 4,
     "metadata": {},
     "output_type": "execute_result"
    }
   ],
   "source": [
    "timestamp = timestamps[-1]\n",
    "portfolio_at_timestamp(timestamp)\n"
   ]
  },
  {
   "cell_type": "code",
   "execution_count": null,
   "metadata": {},
   "outputs": [],
   "source": []
  }
 ],
 "metadata": {
  "kernelspec": {
   "display_name": "base",
   "language": "python",
   "name": "python3"
  },
  "language_info": {
   "codemirror_mode": {
    "name": "ipython",
    "version": 3
   },
   "file_extension": ".py",
   "mimetype": "text/x-python",
   "name": "python",
   "nbconvert_exporter": "python",
   "pygments_lexer": "ipython3",
   "version": "3.8.8"
  }
 },
 "nbformat": 4,
 "nbformat_minor": 2
}
