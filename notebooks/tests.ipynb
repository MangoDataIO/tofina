{
  "cells": [
    {
      "cell_type": "code",
      "execution_count": 1,
      "metadata": {},
      "outputs": [],
      "source": [
        "import sys\n",
        "sys.path.append('..')"
      ]
    },
    {
      "cell_type": "code",
      "execution_count": 2,
      "metadata": {},
      "outputs": [
        {
          "name": "stderr",
          "output_type": "stream",
          "text": [
            "../tofina/utils.py:13: UserWarning: To copy construct from a tensor, it is recommended to use sourceTensor.clone().detach() or sourceTensor.clone().detach().requires_grad_(True), rather than torch.tensor(sourceTensor).\n",
            "  params[key] = torch.nn.Parameter(torch.tensor(val), requires_grad=False)\n",
            "  9%|▉         | 88/1000 [00:00<00:03, 267.86it/s]\n"
          ]
        }
      ],
      "source": [
        "from tofina.components import asset, preference\n",
        "from tofina.theory import varianceMinimization\n",
        "import tofina.utils as utils\n",
        "from tofina.macros import portfolioOptimization, optionPricing\n",
        "import pandas as pd\n",
        "import numpy as np\n",
        "import torch\n",
        "\n",
        "minVarianceFilePath1 = \"minVariancePortfolio1.csv\"\n",
        "covariance1 = torch.tensor([[5, 1], [1, 10]]).float() / 100\n",
        "mean=0.03\n",
        "\n",
        "\n",
        "portfolio_ = varianceMinimization.GenerateVarianceMinimizationPortfolio(\n",
        "    mean, covariance1, torch.tensor([1.0, 1.0]), torch.tensor([1.0, 1.0])\n",
        ")\n",
        "optim = portfolioOptimization.optimizeStockPortfolioRiskAverse(\n",
        "    portfolio_, minVarianceFilePath1\n",
        ")\n",
        "\n"
      ]
    },
    {
      "cell_type": "code",
      "execution_count": 3,
      "metadata": {},
      "outputs": [
        {
          "data": {
            "text/plain": [
              "{'initial_Stock_Company0weight': 0.5,\n",
              " 'initial_Stock_Company1weight': 0.5,\n",
              " 'initial_loss': -0.019090916961431503,\n",
              " 'final_Stock_Company0weight': 0.6950502991676331,\n",
              " 'final_Stock_Company1weight': 0.30494970083236694,\n",
              " 'final_loss': -0.020339922979474068,\n",
              " 'converged': True}"
            ]
          },
          "execution_count": 3,
          "metadata": {},
          "output_type": "execute_result"
        }
      ],
      "source": [
        "optim.optimizationResult"
      ]
    },
    {
      "cell_type": "code",
      "execution_count": 2,
      "metadata": {},
      "outputs": [],
      "source": [
        "import sys\n",
        "import pandas as pd\n",
        "import numpy as np\n",
        "import yfinance as yf\n",
        "from arch import arch_model\n",
        "import datetime as dt\n",
        "sys.path.append('..')"
      ]
    },
    {
      "cell_type": "code",
      "execution_count": 51,
      "metadata": {},
      "outputs": [
        {
          "name": "stderr",
          "output_type": "stream",
          "text": [
            "[*********************100%%**********************]  1 of 1 completed\n"
          ]
        },
        {
          "name": "stdout",
          "output_type": "stream",
          "text": [
            "Iteration:      5,   Func. Count:     94,   Neg. LLF: 30430.821311935004\n",
            "Iteration:     10,   Func. Count:    181,   Neg. LLF: 14455.181743728463\n",
            "Iteration:     15,   Func. Count:    263,   Neg. LLF: 10114.572461608102\n",
            "Iteration:     20,   Func. Count:    343,   Neg. LLF: 10073.527488616097\n",
            "Iteration:     25,   Func. Count:    420,   Neg. LLF: 10072.070965098497\n",
            "Optimization terminated successfully    (Exit mode 0)\n",
            "            Current function value: 10072.07095474302\n",
            "            Iterations: 27\n",
            "            Function evaluations: 449\n",
            "            Gradient evaluations: 27\n"
          ]
        },
        {
          "name": "stderr",
          "output_type": "stream",
          "text": [
            "/opt/anaconda3/lib/python3.8/site-packages/arch/__future__/_utility.py:11: FutureWarning: \n",
            "The default for reindex is True. After September 2021 this will change to\n",
            "False. Set reindex to True or False to silence this message. Alternatively,\n",
            "you can use the import comment\n",
            "\n",
            "from arch.__future__ import reindexing\n",
            "\n",
            "to globally set reindex to True and silence this warning.\n",
            "\n",
            "  warnings.warn(\n"
          ]
        },
        {
          "data": {
            "text/plain": [
              "array([[ 0.61646011, -0.32340047,  0.19066269, ..., -0.07599658,\n",
              "         0.39356872,  0.12170626],\n",
              "       [-0.28994169, -1.28703084, -0.17863595, ..., -1.21361007,\n",
              "         0.04440761,  0.5515557 ],\n",
              "       [ 2.97282509,  0.12528716, -0.30151718, ..., -0.15142557,\n",
              "         1.57509245, -1.23020309],\n",
              "       ...,\n",
              "       [-0.23226563,  0.90339098, -0.22610964, ..., -0.97768951,\n",
              "         0.78031629,  1.72476774],\n",
              "       [ 0.7848413 ,  0.47962212,  0.70109721, ..., -0.66915667,\n",
              "        -0.74386156, -0.41365568],\n",
              "       [ 0.22437642, -0.74294026, -1.35752368, ..., -0.7602476 ,\n",
              "        -0.40027337,  0.06355018]])"
            ]
          },
          "execution_count": 51,
          "metadata": {},
          "output_type": "execute_result"
        }
      ],
      "source": [
        "SPY = yf.download(\"SPY\")\n",
        "ts = 100 * SPY[\"Close\"].diff() / SPY[\"Close\"].shift(1)\n",
        "ts = ts.dropna()\n",
        "split_date = dt.datetime(2022, 12, 30)\n",
        "am = arch_model(ts, vol=\"Garch\", p=3, o=0, q=3, dist=\"t\", mean=\"AR\", lags=5)\n",
        "res = am.fit(update_freq=5, last_obs=split_date)\n",
        "simulation = res.forecast(\n",
        "    method=\"simulation\", horizon=20, simulations=1000\n",
        ")\n",
        "simulation_values = simulation.simulations.values\n",
        "date = \"2022-12-30\"\n",
        "index = simulation.mean.index.get_loc(date)\n",
        "simulation.simulations.values[index]"
      ]
    },
    {
      "cell_type": "code",
      "execution_count": 54,
      "metadata": {},
      "outputs": [
        {
          "data": {
            "text/plain": [
              "DatetimeIndex(['2023-01-03', '2023-01-04', '2023-01-05', '2023-01-06',\n",
              "               '2023-01-09', '2023-01-10', '2023-01-11', '2023-01-12',\n",
              "               '2023-01-13', '2023-01-17',\n",
              "               ...\n",
              "               '2023-12-15', '2023-12-18', '2023-12-19', '2023-12-20',\n",
              "               '2023-12-21', '2023-12-22', '2023-12-26', '2023-12-27',\n",
              "               '2023-12-28', '2023-12-29'],\n",
              "              dtype='datetime64[ns]', name='Date', length=250, freq=None)"
            ]
          },
          "execution_count": 54,
          "metadata": {},
          "output_type": "execute_result"
        }
      ],
      "source": []
    },
    {
      "cell_type": "code",
      "execution_count": null,
      "metadata": {},
      "outputs": [],
      "source": []
    }
  ],
  "metadata": {
    "kernelspec": {
      "display_name": "base",
      "language": "python",
      "name": "python3"
    },
    "language_info": {
      "codemirror_mode": {
        "name": "ipython",
        "version": 3
      },
      "file_extension": ".py",
      "mimetype": "text/x-python",
      "name": "python",
      "nbconvert_exporter": "python",
      "pygments_lexer": "ipython3",
      "version": "3.8.8"
    }
  },
  "nbformat": 4,
  "nbformat_minor": 2
}
