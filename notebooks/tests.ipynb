{
  "cells": [
    {
      "cell_type": "code",
      "execution_count": 1,
      "metadata": {},
      "outputs": [],
      "source": [
        "import sys\n",
        "sys.path.append('..')"
      ]
    },
    {
      "cell_type": "code",
      "execution_count": 2,
      "metadata": {},
      "outputs": [
        {
          "name": "stderr",
          "output_type": "stream",
          "text": [
            "../tofina/utils.py:13: UserWarning: To copy construct from a tensor, it is recommended to use sourceTensor.clone().detach() or sourceTensor.clone().detach().requires_grad_(True), rather than torch.tensor(sourceTensor).\n",
            "  params[key] = torch.nn.Parameter(torch.tensor(val), requires_grad=False)\n",
            "  9%|▉         | 88/1000 [00:00<00:03, 267.86it/s]\n"
          ]
        }
      ],
      "source": [
        "from tofina.components import asset, preference\n",
        "from tofina.theory import varianceMinimization\n",
        "import tofina.utils as utils\n",
        "from tofina.macros import portfolioOptimization, optionPricing\n",
        "import pandas as pd\n",
        "import numpy as np\n",
        "import torch\n",
        "\n",
        "minVarianceFilePath1 = \"minVariancePortfolio1.csv\"\n",
        "covariance1 = torch.tensor([[5, 1], [1, 10]]).float() / 100\n",
        "mean=0.03\n",
        "\n",
        "\n",
        "portfolio_ = varianceMinimization.GenerateVarianceMinimizationPortfolio(\n",
        "    mean, covariance1, torch.tensor([1.0, 1.0]), torch.tensor([1.0, 1.0])\n",
        ")\n",
        "optim = portfolioOptimization.optimizeStockPortfolioRiskAverse(\n",
        "    portfolio_, minVarianceFilePath1\n",
        ")\n",
        "\n"
      ]
    },
    {
      "cell_type": "code",
      "execution_count": 3,
      "metadata": {},
      "outputs": [
        {
          "data": {
            "text/plain": [
              "{'initial_Stock_Company0weight': 0.5,\n",
              " 'initial_Stock_Company1weight': 0.5,\n",
              " 'initial_loss': -0.019090916961431503,\n",
              " 'final_Stock_Company0weight': 0.6950502991676331,\n",
              " 'final_Stock_Company1weight': 0.30494970083236694,\n",
              " 'final_loss': -0.020339922979474068,\n",
              " 'converged': True}"
            ]
          },
          "execution_count": 3,
          "metadata": {},
          "output_type": "execute_result"
        }
      ],
      "source": [
        "optim.optimizationResult"
      ]
    },
    {
      "cell_type": "code",
      "execution_count": 3,
      "metadata": {},
      "outputs": [],
      "source": [
        "import pandas as pd\n",
        "df_path = \"/Users/andriylevitskyy/Desktop/tofina/tests/data/options/SPY.csv\"\n",
        "SPY_df = pd.read_csv(df_path)"
      ]
    },
    {
      "cell_type": "code",
      "execution_count": 9,
      "metadata": {},
      "outputs": [
        {
          "name": "stdout",
          "output_type": "stream",
          "text": [
            "Date                 2023-01-03\n",
            "Expiry Date          2023-01-03\n",
            "Call Last                 73.66\n",
            "Call Bid                  70.86\n",
            "Call Ask                  71.01\n",
            "Put Last                   0.01\n",
            "Put Bid                     0.0\n",
            "Put Ask                    0.01\n",
            "Strike Price              310.0\n",
            "Underlying Price         380.82\n",
            "Name: 0, dtype: object\n"
          ]
        }
      ],
      "source": [
        "for i, row in SPY_df.iterrows():\n",
        "    print(row)\n",
        "    break"
      ]
    },
    {
      "cell_type": "code",
      "execution_count": 11,
      "metadata": {},
      "outputs": [
        {
          "data": {
            "text/plain": [
              "310.0"
            ]
          },
          "execution_count": 11,
          "metadata": {},
          "output_type": "execute_result"
        }
      ],
      "source": [
        "row[\"Strike Price\"]"
      ]
    },
    {
      "cell_type": "code",
      "execution_count": 1,
      "metadata": {},
      "outputs": [],
      "source": [
        "import sys\n",
        "sys.path.append('..')"
      ]
    },
    {
      "cell_type": "code",
      "execution_count": 2,
      "metadata": {},
      "outputs": [
        {
          "name": "stderr",
          "output_type": "stream",
          "text": [
            "[*********************100%%**********************]  1 of 1 completed\n"
          ]
        },
        {
          "name": "stdout",
          "output_type": "stream",
          "text": [
            "Iteration:      5,   Func. Count:     94,   Neg. LLF: 30356.489405585766\n",
            "Iteration:     10,   Func. Count:    181,   Neg. LLF: 15244.176184581413\n",
            "Iteration:     15,   Func. Count:    263,   Neg. LLF: 10144.559858087046\n",
            "Iteration:     20,   Func. Count:    344,   Neg. LLF: 10075.081632452344\n",
            "Iteration:     25,   Func. Count:    420,   Neg. LLF: 10073.148971941075\n",
            "Optimization terminated successfully    (Exit mode 0)\n",
            "            Current function value: 10073.14896934825\n",
            "            Iterations: 27\n",
            "            Function evaluations: 449\n",
            "            Gradient evaluations: 27\n"
          ]
        },
        {
          "name": "stderr",
          "output_type": "stream",
          "text": [
            "/opt/anaconda3/lib/python3.8/site-packages/arch/__future__/_utility.py:11: FutureWarning: \n",
            "The default for reindex is True. After September 2021 this will change to\n",
            "False. Set reindex to True or False to silence this message. Alternatively,\n",
            "you can use the import comment\n",
            "\n",
            "from arch.__future__ import reindexing\n",
            "\n",
            "to globally set reindex to True and silence this warning.\n",
            "\n",
            "  warnings.warn(\n",
            "34744it [00:57, 607.05it/s] \n"
          ]
        }
      ],
      "source": [
        "from tofina.components.backtest import Backtester\n",
        "import tofina.components.instrument as instrument\n",
        "from tofina.extern.arch import forecastDecoratorGARCH\n",
        "from tofina.extern.yfinance import loadHistoricalStockData\n",
        "import datetime as dt\n",
        "import numpy as np\n",
        "from pathlib import Path\n",
        "import shutil\n",
        "import pandas as pd\n",
        "\n",
        "SPY = loadHistoricalStockData(\"SPY\")\n",
        "start_date = dt.datetime(2023, 1, 1)\n",
        "end_date = dt.datetime(2023, 1, 14)\n",
        "split_date = start_date - dt.timedelta(days=1)\n",
        "timestamps = SPY.index[\n",
        "    np.logical_and(SPY.index >= start_date, SPY.index < end_date)\n",
        "]\n",
        "horizon = 20\n",
        "simulations = 1000\n",
        "arch_kwargs = dict(vol=\"Garch\", p=3, o=0, q=3, dist=\"t\", mean=\"AR\", lags=5)\n",
        "forecaster = forecastDecoratorGARCH(\n",
        "    SPY, split_date, horizon, simulations, **arch_kwargs\n",
        ")\n",
        "backtester = Backtester(timestamps=timestamps)\n",
        "backtester.stockDataFromDataFrame(SPY, \"SPY\")\n",
        "backtester.registerForecaster(forecaster, [\"SPY\"])\n",
        "backtester.addDeposit(interestRate=0.2/252)\n",
        "df_path = \"/Users/andriylevitskyy/Desktop/tofina/tests/data/options/SPY.csv\"\n",
        "df = pd.read_csv(df_path)\n",
        "df[\"Date\"] = df[\"Date\"].apply(lambda x: x.replace(\" \", \"\"))\n",
        "df[\"Expiry Date\"] = df[\"Expiry Date\"].apply(lambda x: x.replace(\" \", \"\"))\n",
        "df[\"Date\"] = pd.to_datetime(df[\"Date\"])\n",
        "df[\"Expiry Date\"] = pd.to_datetime(df[\"Expiry Date\"])\n",
        "df = df[df[\"Date\"] >= start_date]\n",
        "df = df[df[\"Date\"] < end_date]\n",
        "backtester.parseOptionData(df, \"SPY\")"
      ]
    },
    {
      "cell_type": "code",
      "execution_count": 3,
      "metadata": {},
      "outputs": [
        {
          "name": "stdout",
          "output_type": "stream",
          "text": [
            "0 2937\n",
            "1 2821\n",
            "2 2617\n",
            "3 2749\n",
            "4 2709\n",
            "5 2863\n",
            "6 3077\n",
            "7 2919\n",
            "8 3055\n"
          ]
        }
      ],
      "source": [
        "dates = list(backtester.pointInTimePortfolio.keys())\n",
        "for i in range(9):\n",
        "    print(i,backtester.pointInTimePortfolio[dates[i]].num_instruments)"
      ]
    },
    {
      "cell_type": "code",
      "execution_count": null,
      "metadata": {},
      "outputs": [],
      "source": []
    }
  ],
  "metadata": {
    "kernelspec": {
      "display_name": "base",
      "language": "python",
      "name": "python3"
    },
    "language_info": {
      "codemirror_mode": {
        "name": "ipython",
        "version": 3
      },
      "file_extension": ".py",
      "mimetype": "text/x-python",
      "name": "python",
      "nbconvert_exporter": "python",
      "pygments_lexer": "ipython3",
      "version": "3.8.8"
    }
  },
  "nbformat": 4,
  "nbformat_minor": 2
}
