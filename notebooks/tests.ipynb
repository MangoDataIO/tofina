{
  "cells": [
    {
      "cell_type": "code",
      "execution_count": 1,
      "metadata": {},
      "outputs": [],
      "source": [
        "import sys\n",
        "sys.path.append('..')"
      ]
    },
    {
      "cell_type": "code",
      "execution_count": 2,
      "metadata": {},
      "outputs": [
        {
          "name": "stderr",
          "output_type": "stream",
          "text": [
            "../tofina/utils.py:13: UserWarning: To copy construct from a tensor, it is recommended to use sourceTensor.clone().detach() or sourceTensor.clone().detach().requires_grad_(True), rather than torch.tensor(sourceTensor).\n",
            "  params[key] = torch.nn.Parameter(torch.tensor(val), requires_grad=False)\n",
            "  9%|▉         | 88/1000 [00:00<00:03, 267.86it/s]\n"
          ]
        }
      ],
      "source": [
        "from tofina.components import asset, preference\n",
        "from tofina.theory import varianceMinimization\n",
        "import tofina.utils as utils\n",
        "from tofina.macros import portfolioOptimization, optionPricing\n",
        "import pandas as pd\n",
        "import numpy as np\n",
        "import torch\n",
        "\n",
        "minVarianceFilePath1 = \"minVariancePortfolio1.csv\"\n",
        "covariance1 = torch.tensor([[5, 1], [1, 10]]).float() / 100\n",
        "mean=0.03\n",
        "\n",
        "\n",
        "portfolio_ = varianceMinimization.GenerateVarianceMinimizationPortfolio(\n",
        "    mean, covariance1, torch.tensor([1.0, 1.0]), torch.tensor([1.0, 1.0])\n",
        ")\n",
        "optim = portfolioOptimization.optimizeStockPortfolioRiskAverse(\n",
        "    portfolio_, minVarianceFilePath1\n",
        ")\n",
        "\n"
      ]
    },
    {
      "cell_type": "code",
      "execution_count": 3,
      "metadata": {},
      "outputs": [
        {
          "data": {
            "text/plain": [
              "{'initial_Stock_Company0weight': 0.5,\n",
              " 'initial_Stock_Company1weight': 0.5,\n",
              " 'initial_loss': -0.019090916961431503,\n",
              " 'final_Stock_Company0weight': 0.6950502991676331,\n",
              " 'final_Stock_Company1weight': 0.30494970083236694,\n",
              " 'final_loss': -0.020339922979474068,\n",
              " 'converged': True}"
            ]
          },
          "execution_count": 3,
          "metadata": {},
          "output_type": "execute_result"
        }
      ],
      "source": [
        "optim.optimizationResult"
      ]
    },
    {
      "cell_type": "code",
      "execution_count": null,
      "metadata": {},
      "outputs": [],
      "source": []
    }
  ],
  "metadata": {
    "kernelspec": {
      "display_name": "base",
      "language": "python",
      "name": "python3"
    },
    "language_info": {
      "codemirror_mode": {
        "name": "ipython",
        "version": 3
      },
      "file_extension": ".py",
      "mimetype": "text/x-python",
      "name": "python",
      "nbconvert_exporter": "python",
      "pygments_lexer": "ipython3",
      "version": "3.8.8"
    }
  },
  "nbformat": 4,
  "nbformat_minor": 2
}
