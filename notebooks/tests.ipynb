{
  "cells": [
    {
      "cell_type": "code",
      "execution_count": 1,
      "metadata": {},
      "outputs": [],
      "source": [
        "import sys\n",
        "sys.path.append('..')"
      ]
    },
    {
      "cell_type": "code",
      "execution_count": 2,
      "metadata": {},
      "outputs": [
        {
          "name": "stderr",
          "output_type": "stream",
          "text": [
            "../tofina/utils.py:13: UserWarning: To copy construct from a tensor, it is recommended to use sourceTensor.clone().detach() or sourceTensor.clone().detach().requires_grad_(True), rather than torch.tensor(sourceTensor).\n",
            "  params[key] = torch.nn.Parameter(torch.tensor(val), requires_grad=False)\n",
            "  9%|▉         | 88/1000 [00:00<00:03, 267.86it/s]\n"
          ]
        }
      ],
      "source": [
        "from tofina.components import asset, preference\n",
        "from tofina.theory import varianceMinimization\n",
        "import tofina.utils as utils\n",
        "from tofina.macros import portfolioOptimization, optionPricing\n",
        "import pandas as pd\n",
        "import numpy as np\n",
        "import torch\n",
        "\n",
        "minVarianceFilePath1 = \"minVariancePortfolio1.csv\"\n",
        "covariance1 = torch.tensor([[5, 1], [1, 10]]).float() / 100\n",
        "mean=0.03\n",
        "\n",
        "\n",
        "portfolio_ = varianceMinimization.GenerateVarianceMinimizationPortfolio(\n",
        "    mean, covariance1, torch.tensor([1.0, 1.0]), torch.tensor([1.0, 1.0])\n",
        ")\n",
        "optim = portfolioOptimization.optimizeStockPortfolioRiskAverse(\n",
        "    portfolio_, minVarianceFilePath1\n",
        ")\n",
        "\n"
      ]
    },
    {
      "cell_type": "code",
      "execution_count": 3,
      "metadata": {},
      "outputs": [
        {
          "data": {
            "text/plain": [
              "{'initial_Stock_Company0weight': 0.5,\n",
              " 'initial_Stock_Company1weight': 0.5,\n",
              " 'initial_loss': -0.019090916961431503,\n",
              " 'final_Stock_Company0weight': 0.6950502991676331,\n",
              " 'final_Stock_Company1weight': 0.30494970083236694,\n",
              " 'final_loss': -0.020339922979474068,\n",
              " 'converged': True}"
            ]
          },
          "execution_count": 3,
          "metadata": {},
          "output_type": "execute_result"
        }
      ],
      "source": [
        "optim.optimizationResult"
      ]
    },
    {
      "cell_type": "code",
      "execution_count": 1,
      "metadata": {},
      "outputs": [],
      "source": [
        "import sys\n",
        "import pandas as pd\n",
        "import numpy as np\n",
        "import yfinance as yf\n",
        "from arch import arch_model\n",
        "import datetime as dt\n",
        "import torch\n",
        "sys.path.append('..')"
      ]
    },
    {
      "cell_type": "code",
      "execution_count": 10,
      "metadata": {},
      "outputs": [
        {
          "ename": "NameError",
          "evalue": "name 'torch' is not defined",
          "output_type": "error",
          "traceback": [
            "\u001b[0;31m---------------------------------------------------------------------------\u001b[0m",
            "\u001b[0;31mNameError\u001b[0m                                 Traceback (most recent call last)",
            "\u001b[0;32m<ipython-input-10-415ca418336c>\u001b[0m in \u001b[0;36m<module>\u001b[0;34m\u001b[0m\n\u001b[0;32m----> 1\u001b[0;31m \u001b[0;32mdef\u001b[0m \u001b[0mprepend_tensor_with_ones\u001b[0m\u001b[0;34m(\u001b[0m\u001b[0mtensor\u001b[0m\u001b[0;34m:\u001b[0m \u001b[0mtorch\u001b[0m\u001b[0;34m.\u001b[0m\u001b[0mTensor\u001b[0m\u001b[0;34m)\u001b[0m \u001b[0;34m->\u001b[0m \u001b[0mtorch\u001b[0m\u001b[0;34m.\u001b[0m\u001b[0mTensor\u001b[0m\u001b[0;34m:\u001b[0m\u001b[0;34m\u001b[0m\u001b[0;34m\u001b[0m\u001b[0m\n\u001b[0m\u001b[1;32m      2\u001b[0m     \u001b[0mones\u001b[0m \u001b[0;34m=\u001b[0m \u001b[0mtorch\u001b[0m\u001b[0;34m.\u001b[0m\u001b[0mones\u001b[0m\u001b[0;34m(\u001b[0m\u001b[0;34m(\u001b[0m\u001b[0mtensor\u001b[0m\u001b[0;34m.\u001b[0m\u001b[0mshape\u001b[0m\u001b[0;34m[\u001b[0m\u001b[0;36m0\u001b[0m\u001b[0;34m]\u001b[0m\u001b[0;34m,\u001b[0m \u001b[0;36m1\u001b[0m\u001b[0;34m)\u001b[0m\u001b[0;34m)\u001b[0m\u001b[0;34m\u001b[0m\u001b[0;34m\u001b[0m\u001b[0m\n\u001b[1;32m      3\u001b[0m     \u001b[0;32mreturn\u001b[0m \u001b[0mtorch\u001b[0m\u001b[0;34m.\u001b[0m\u001b[0mcat\u001b[0m\u001b[0;34m(\u001b[0m\u001b[0;34m(\u001b[0m\u001b[0mones\u001b[0m\u001b[0;34m,\u001b[0m \u001b[0mtensor\u001b[0m\u001b[0;34m)\u001b[0m\u001b[0;34m,\u001b[0m \u001b[0;36m1\u001b[0m\u001b[0;34m)\u001b[0m\u001b[0;34m\u001b[0m\u001b[0;34m\u001b[0m\u001b[0m\n",
            "\u001b[0;31mNameError\u001b[0m: name 'torch' is not defined"
          ]
        }
      ],
      "source": []
    },
    {
      "cell_type": "code",
      "execution_count": 21,
      "metadata": {},
      "outputs": [
        {
          "name": "stderr",
          "output_type": "stream",
          "text": [
            "[*********************100%%**********************]  1 of 1 completed\n"
          ]
        },
        {
          "name": "stdout",
          "output_type": "stream",
          "text": [
            "Iteration:      5,   Func. Count:     94,   Neg. LLF: 30430.821311935004\n",
            "Iteration:     10,   Func. Count:    181,   Neg. LLF: 14455.181743728463\n",
            "Iteration:     15,   Func. Count:    263,   Neg. LLF: 10114.572461608102\n",
            "Iteration:     20,   Func. Count:    343,   Neg. LLF: 10073.527488616097\n",
            "Iteration:     25,   Func. Count:    420,   Neg. LLF: 10072.070965098497\n",
            "Optimization terminated successfully    (Exit mode 0)\n",
            "            Current function value: 10072.07095474302\n",
            "            Iterations: 27\n",
            "            Function evaluations: 449\n",
            "            Gradient evaluations: 27\n"
          ]
        },
        {
          "name": "stderr",
          "output_type": "stream",
          "text": [
            "/opt/anaconda3/lib/python3.8/site-packages/arch/__future__/_utility.py:11: FutureWarning: \n",
            "The default for reindex is True. After September 2021 this will change to\n",
            "False. Set reindex to True or False to silence this message. Alternatively,\n",
            "you can use the import comment\n",
            "\n",
            "from arch.__future__ import reindexing\n",
            "\n",
            "to globally set reindex to True and silence this warning.\n",
            "\n",
            "  warnings.warn(\n"
          ]
        }
      ],
      "source": [
        "def prepend_tensor_with_ones(tensor: torch.Tensor) -> torch.Tensor:\n",
        "    ones = torch.ones((tensor.shape[0],tensor.shape[1], 1))\n",
        "    return torch.cat((ones, tensor), 2)\n",
        "SPY = yf.download(\"SPY\")\n",
        "SPY[\"diff\"] = 100*SPY[\"Close\"].diff() / SPY[\"Close\"].shift(1)\n",
        "SPY = SPY.dropna()\n",
        "ts = SPY[\"diff\"]\n",
        "split_date = dt.datetime(2022, 12, 30)\n",
        "am = arch_model(ts, vol=\"Garch\", p=3, o=0, q=3, dist=\"t\", mean=\"AR\", lags=5)\n",
        "res = am.fit(update_freq=5, last_obs=split_date)\n",
        "simulation = res.forecast(\n",
        "    method=\"simulation\", horizon=20, simulations=1000\n",
        ")\n",
        "simulation_values = (1+simulation.simulations.values/100)\n",
        "simulation_values = simulation_values.cumprod(axis=2)\n",
        "simulation_values = torch.from_numpy(simulation_values)\n",
        "simulation_values = prepend_tensor_with_ones(simulation_values)\n",
        "init_values = torch.from_numpy(SPY[\"Close\"].values)\n",
        "date = \"2022-12-30\"\n",
        "start_value = SPY[\"Close\"].loc[date]\n",
        "\n",
        "\n"
      ]
    },
    {
      "cell_type": "code",
      "execution_count": 23,
      "metadata": {},
      "outputs": [
        {
          "data": {
            "text/plain": [
              "torch.Size([7819])"
            ]
          },
          "execution_count": 23,
          "metadata": {},
          "output_type": "execute_result"
        }
      ],
      "source": [
        "init_values.shape"
      ]
    },
    {
      "cell_type": "code",
      "execution_count": 24,
      "metadata": {},
      "outputs": [
        {
          "data": {
            "text/plain": [
              "torch.Size([7818, 1000, 21])"
            ]
          },
          "execution_count": 24,
          "metadata": {},
          "output_type": "execute_result"
        }
      ],
      "source": [
        "simulation_values.shape"
      ]
    },
    {
      "cell_type": "code",
      "execution_count": null,
      "metadata": {},
      "outputs": [],
      "source": []
    }
  ],
  "metadata": {
    "kernelspec": {
      "display_name": "base",
      "language": "python",
      "name": "python3"
    },
    "language_info": {
      "codemirror_mode": {
        "name": "ipython",
        "version": 3
      },
      "file_extension": ".py",
      "mimetype": "text/x-python",
      "name": "python",
      "nbconvert_exporter": "python",
      "pygments_lexer": "ipython3",
      "version": "3.8.8"
    }
  },
  "nbformat": 4,
  "nbformat_minor": 2
}
