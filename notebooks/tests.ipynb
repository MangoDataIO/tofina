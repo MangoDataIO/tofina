{
  "cells": [
    {
      "cell_type": "code",
      "execution_count": 1,
      "metadata": {},
      "outputs": [],
      "source": [
        "import sys\n",
        "sys.path.append('..')"
      ]
    },
    {
      "cell_type": "code",
      "execution_count": 2,
      "metadata": {},
      "outputs": [
        {
          "name": "stderr",
          "output_type": "stream",
          "text": [
            "../tofina/utils.py:13: UserWarning: To copy construct from a tensor, it is recommended to use sourceTensor.clone().detach() or sourceTensor.clone().detach().requires_grad_(True), rather than torch.tensor(sourceTensor).\n",
            "  params[key] = torch.nn.Parameter(torch.tensor(val), requires_grad=False)\n",
            "  9%|▉         | 88/1000 [00:00<00:03, 267.86it/s]\n"
          ]
        }
      ],
      "source": [
        "from tofina.components import asset, preference\n",
        "from tofina.theory import varianceMinimization\n",
        "import tofina.utils as utils\n",
        "from tofina.macros import portfolioOptimization, optionPricing\n",
        "import pandas as pd\n",
        "import numpy as np\n",
        "import torch\n",
        "\n",
        "minVarianceFilePath1 = \"minVariancePortfolio1.csv\"\n",
        "covariance1 = torch.tensor([[5, 1], [1, 10]]).float() / 100\n",
        "mean=0.03\n",
        "\n",
        "\n",
        "portfolio_ = varianceMinimization.GenerateVarianceMinimizationPortfolio(\n",
        "    mean, covariance1, torch.tensor([1.0, 1.0]), torch.tensor([1.0, 1.0])\n",
        ")\n",
        "optim = portfolioOptimization.optimizeStockPortfolioRiskAverse(\n",
        "    portfolio_, minVarianceFilePath1\n",
        ")\n",
        "\n"
      ]
    },
    {
      "cell_type": "code",
      "execution_count": 3,
      "metadata": {},
      "outputs": [
        {
          "data": {
            "text/plain": [
              "{'initial_Stock_Company0weight': 0.5,\n",
              " 'initial_Stock_Company1weight': 0.5,\n",
              " 'initial_loss': -0.019090916961431503,\n",
              " 'final_Stock_Company0weight': 0.6950502991676331,\n",
              " 'final_Stock_Company1weight': 0.30494970083236694,\n",
              " 'final_loss': -0.020339922979474068,\n",
              " 'converged': True}"
            ]
          },
          "execution_count": 3,
          "metadata": {},
          "output_type": "execute_result"
        }
      ],
      "source": [
        "optim.optimizationResult"
      ]
    },
    {
      "cell_type": "code",
      "execution_count": 33,
      "metadata": {},
      "outputs": [],
      "source": [
        "import pandas as pd\n",
        "df_path = \"/Users/andriylevitskyy/Desktop/tofina/tests/data/options/SPY.csv\"\n",
        "SPY_df = pd.read_csv(df_path)"
      ]
    },
    {
      "cell_type": "code",
      "execution_count": 34,
      "metadata": {},
      "outputs": [
        {
          "data": {
            "text/html": [
              "<div>\n",
              "<style scoped>\n",
              "    .dataframe tbody tr th:only-of-type {\n",
              "        vertical-align: middle;\n",
              "    }\n",
              "\n",
              "    .dataframe tbody tr th {\n",
              "        vertical-align: top;\n",
              "    }\n",
              "\n",
              "    .dataframe thead th {\n",
              "        text-align: right;\n",
              "    }\n",
              "</style>\n",
              "<table border=\"1\" class=\"dataframe\">\n",
              "  <thead>\n",
              "    <tr style=\"text-align: right;\">\n",
              "      <th></th>\n",
              "      <th>Date</th>\n",
              "      <th>Expiry Date</th>\n",
              "      <th>Call Last</th>\n",
              "      <th>Call Bid</th>\n",
              "      <th>Call Ask</th>\n",
              "      <th>Put Last</th>\n",
              "      <th>Put Bid</th>\n",
              "      <th>Put Ask</th>\n",
              "      <th>Strike Price</th>\n",
              "      <th>Underlying Price</th>\n",
              "    </tr>\n",
              "  </thead>\n",
              "  <tbody>\n",
              "    <tr>\n",
              "      <th>0</th>\n",
              "      <td>2023-01-03</td>\n",
              "      <td>2023-01-03</td>\n",
              "      <td>73.66</td>\n",
              "      <td>70.86</td>\n",
              "      <td>71.01</td>\n",
              "      <td>0.01</td>\n",
              "      <td>0.0</td>\n",
              "      <td>0.01</td>\n",
              "      <td>310.0</td>\n",
              "      <td>380.82</td>\n",
              "    </tr>\n",
              "    <tr>\n",
              "      <th>1</th>\n",
              "      <td>2023-01-03</td>\n",
              "      <td>2023-01-03</td>\n",
              "      <td>60.24</td>\n",
              "      <td>60.86</td>\n",
              "      <td>61.01</td>\n",
              "      <td>0.02</td>\n",
              "      <td>0.0</td>\n",
              "      <td>0.01</td>\n",
              "      <td>320.0</td>\n",
              "      <td>380.82</td>\n",
              "    </tr>\n",
              "    <tr>\n",
              "      <th>2</th>\n",
              "      <td>2023-01-03</td>\n",
              "      <td>2023-01-03</td>\n",
              "      <td>0.00</td>\n",
              "      <td>56.86</td>\n",
              "      <td>57.01</td>\n",
              "      <td>0.00</td>\n",
              "      <td>0.0</td>\n",
              "      <td>0.01</td>\n",
              "      <td>324.0</td>\n",
              "      <td>380.82</td>\n",
              "    </tr>\n",
              "    <tr>\n",
              "      <th>3</th>\n",
              "      <td>2023-01-03</td>\n",
              "      <td>2023-01-03</td>\n",
              "      <td>0.00</td>\n",
              "      <td>55.32</td>\n",
              "      <td>56.48</td>\n",
              "      <td>0.02</td>\n",
              "      <td>0.0</td>\n",
              "      <td>0.01</td>\n",
              "      <td>325.0</td>\n",
              "      <td>380.82</td>\n",
              "    </tr>\n",
              "    <tr>\n",
              "      <th>4</th>\n",
              "      <td>2023-01-03</td>\n",
              "      <td>2023-01-03</td>\n",
              "      <td>0.00</td>\n",
              "      <td>54.34</td>\n",
              "      <td>55.54</td>\n",
              "      <td>0.01</td>\n",
              "      <td>0.0</td>\n",
              "      <td>0.01</td>\n",
              "      <td>326.0</td>\n",
              "      <td>380.82</td>\n",
              "    </tr>\n",
              "    <tr>\n",
              "      <th>...</th>\n",
              "      <td>...</td>\n",
              "      <td>...</td>\n",
              "      <td>...</td>\n",
              "      <td>...</td>\n",
              "      <td>...</td>\n",
              "      <td>...</td>\n",
              "      <td>...</td>\n",
              "      <td>...</td>\n",
              "      <td>...</td>\n",
              "      <td>...</td>\n",
              "    </tr>\n",
              "    <tr>\n",
              "      <th>972157</th>\n",
              "      <td>2023-12-29</td>\n",
              "      <td>2026-12-18</td>\n",
              "      <td>0.00</td>\n",
              "      <td>1.00</td>\n",
              "      <td>5.00</td>\n",
              "      <td>0.00</td>\n",
              "      <td>237.5</td>\n",
              "      <td>242.50</td>\n",
              "      <td>715.0</td>\n",
              "      <td>475.31</td>\n",
              "    </tr>\n",
              "    <tr>\n",
              "      <th>972158</th>\n",
              "      <td>2023-12-29</td>\n",
              "      <td>2026-12-18</td>\n",
              "      <td>0.00</td>\n",
              "      <td>1.00</td>\n",
              "      <td>5.00</td>\n",
              "      <td>0.00</td>\n",
              "      <td>242.5</td>\n",
              "      <td>247.50</td>\n",
              "      <td>720.0</td>\n",
              "      <td>475.31</td>\n",
              "    </tr>\n",
              "    <tr>\n",
              "      <th>972159</th>\n",
              "      <td>2023-12-29</td>\n",
              "      <td>2026-12-18</td>\n",
              "      <td>0.00</td>\n",
              "      <td>2.00</td>\n",
              "      <td>5.00</td>\n",
              "      <td>0.00</td>\n",
              "      <td>252.5</td>\n",
              "      <td>257.50</td>\n",
              "      <td>730.0</td>\n",
              "      <td>475.31</td>\n",
              "    </tr>\n",
              "    <tr>\n",
              "      <th>972160</th>\n",
              "      <td>2023-12-29</td>\n",
              "      <td>2026-12-18</td>\n",
              "      <td>4.99</td>\n",
              "      <td>0.02</td>\n",
              "      <td>5.00</td>\n",
              "      <td>0.00</td>\n",
              "      <td>262.5</td>\n",
              "      <td>267.50</td>\n",
              "      <td>740.0</td>\n",
              "      <td>475.31</td>\n",
              "    </tr>\n",
              "    <tr>\n",
              "      <th>972161</th>\n",
              "      <td>2023-12-29</td>\n",
              "      <td>2026-12-18</td>\n",
              "      <td>2.25</td>\n",
              "      <td>2.07</td>\n",
              "      <td>3.10</td>\n",
              "      <td>274.25</td>\n",
              "      <td>272.5</td>\n",
              "      <td>277.50</td>\n",
              "      <td>750.0</td>\n",
              "      <td>475.31</td>\n",
              "    </tr>\n",
              "  </tbody>\n",
              "</table>\n",
              "<p>972162 rows × 10 columns</p>\n",
              "</div>"
            ],
            "text/plain": [
              "               Date  Expiry Date  Call Last  Call Bid  Call Ask  Put Last  \\\n",
              "0        2023-01-03   2023-01-03      73.66     70.86     71.01      0.01   \n",
              "1        2023-01-03   2023-01-03      60.24     60.86     61.01      0.02   \n",
              "2        2023-01-03   2023-01-03       0.00     56.86     57.01      0.00   \n",
              "3        2023-01-03   2023-01-03       0.00     55.32     56.48      0.02   \n",
              "4        2023-01-03   2023-01-03       0.00     54.34     55.54      0.01   \n",
              "...             ...          ...        ...       ...       ...       ...   \n",
              "972157   2023-12-29   2026-12-18       0.00      1.00      5.00      0.00   \n",
              "972158   2023-12-29   2026-12-18       0.00      1.00      5.00      0.00   \n",
              "972159   2023-12-29   2026-12-18       0.00      2.00      5.00      0.00   \n",
              "972160   2023-12-29   2026-12-18       4.99      0.02      5.00      0.00   \n",
              "972161   2023-12-29   2026-12-18       2.25      2.07      3.10    274.25   \n",
              "\n",
              "        Put Bid  Put Ask  Strike Price  Underlying Price  \n",
              "0           0.0     0.01         310.0            380.82  \n",
              "1           0.0     0.01         320.0            380.82  \n",
              "2           0.0     0.01         324.0            380.82  \n",
              "3           0.0     0.01         325.0            380.82  \n",
              "4           0.0     0.01         326.0            380.82  \n",
              "...         ...      ...           ...               ...  \n",
              "972157    237.5   242.50         715.0            475.31  \n",
              "972158    242.5   247.50         720.0            475.31  \n",
              "972159    252.5   257.50         730.0            475.31  \n",
              "972160    262.5   267.50         740.0            475.31  \n",
              "972161    272.5   277.50         750.0            475.31  \n",
              "\n",
              "[972162 rows x 10 columns]"
            ]
          },
          "execution_count": 34,
          "metadata": {},
          "output_type": "execute_result"
        }
      ],
      "source": [
        "SPY_df"
      ]
    },
    {
      "cell_type": "code",
      "execution_count": 8,
      "metadata": {},
      "outputs": [],
      "source": [
        "import tofina.components.instrument as instrument\n",
        "import tofina.components.asset as asset\n",
        "import torch"
      ]
    },
    {
      "cell_type": "code",
      "execution_count": null,
      "metadata": {},
      "outputs": [],
      "source": [
        "asset.GovernmentObligtaionProcess(5,10, {\"in\"})"
      ]
    },
    {
      "cell_type": "code",
      "execution_count": 11,
      "metadata": {},
      "outputs": [],
      "source": [
        "X = torch.tensor(\n",
        "    [[100, 120, 130, 150], \n",
        "     [100, 100, 100, 1000], \n",
        "     [100, 80, 70, 50]]\n",
        ").float().T"
      ]
    },
    {
      "cell_type": "code",
      "execution_count": 26,
      "metadata": {},
      "outputs": [
        {
          "data": {
            "text/plain": [
              "tensor([ 50., 900.,   0.])"
            ]
          },
          "execution_count": 26,
          "metadata": {},
          "output_type": "execute_result"
        }
      ],
      "source": [
        "instrument.AmericanCallPayout(X, 4, {\"strikePrice\": 100, \"maturity\": 4})"
      ]
    },
    {
      "cell_type": "code",
      "execution_count": null,
      "metadata": {},
      "outputs": [],
      "source": [
        "instrument.AmericanCallPayout(X, 0, {\"strikePrice\": 100, \"maturity\": 2})"
      ]
    }
  ],
  "metadata": {
    "kernelspec": {
      "display_name": "base",
      "language": "python",
      "name": "python3"
    },
    "language_info": {
      "codemirror_mode": {
        "name": "ipython",
        "version": 3
      },
      "file_extension": ".py",
      "mimetype": "text/x-python",
      "name": "python",
      "nbconvert_exporter": "python",
      "pygments_lexer": "ipython3",
      "version": "3.8.8"
    }
  },
  "nbformat": 4,
  "nbformat_minor": 2
}
